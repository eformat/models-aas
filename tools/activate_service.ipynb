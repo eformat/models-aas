{
 "cells": [
  {
   "cell_type": "markdown",
   "id": "ffce1749",
   "metadata": {},
   "source": [
    "# New Service subscription for Accounts\n",
    "\n",
    "In 3Scale at version 2.14 you cannot directly subscribe all Accounts to a new Service you created. Instead of going manually through all accounts to to enable this subscription, we will use the API with a specific recipe to programmatically subscribe an Account to a Service:\n",
    "\n",
    "- Retrieve the Account id to which we need to enable the subscription.\n",
    "- Retrieve the Service and the associated Service Plan we want the subscription for.\n",
    "- Create a dummy application based on this Service Plan in the target Account. This will automatically subscribe the account to the Service.\n",
    "- Delete the dummy application immediately afterwards. The subscription to the Service will remain active. Voilà!\n",
    "\n",
    "To enable a Service for all accounts, you can simply loop the recipe over all accounts!"
   ]
  },
  {
   "cell_type": "markdown",
   "id": "c26cc0a7",
   "metadata": {},
   "source": [
    "### Init"
   ]
  },
  {
   "cell_type": "code",
   "execution_count": 1,
   "id": "67bc3397-945f-4c6b-8534-83b69d5069af",
   "metadata": {},
   "outputs": [],
   "source": [
    "import os\n",
    "import requests\n",
    "import xmltodict\n",
    "from dotenv import load_dotenv"
   ]
  },
  {
   "cell_type": "code",
   "execution_count": 2,
   "id": "6c0c18d3-8ad5-4482-b810-8450dc6cd7fe",
   "metadata": {},
   "outputs": [],
   "source": [
    "load_dotenv()\n",
    "backend_address = os.environ.get('BACKEND_ADDRESS')\n",
    "access_token = os.environ.get('ACCESS_TOKEN')"
   ]
  },
  {
   "cell_type": "markdown",
   "id": "94d0448b-4ea3-45f2-9f85-53371228d3d2",
   "metadata": {},
   "source": [
    "### Get the Accounts\n",
    "\n",
    "Note: those are organization accounts, not user accounts within an organization"
   ]
  },
  {
   "cell_type": "code",
   "execution_count": 3,
   "id": "00ac99e9-c73e-486e-89b2-f3666c3aee58",
   "metadata": {
    "jupyter": {
     "source_hidden": true
    }
   },
   "outputs": [
    {
     "name": "stdout",
     "output_type": "stream",
     "text": [
      "342 accounts found\n"
     ]
    }
   ],
   "source": [
    "params = {\n",
    "    \"access_token\": access_token\n",
    "}\n",
    "headers = {\n",
    "    \"accept\": \"*/*\"\n",
    "}\n",
    "\n",
    "api_url = f\"{backend_address}/admin/api/accounts.xml\"\n",
    "\n",
    "response = requests.get(api_url, params=params, headers=headers)\n",
    "\n",
    "accounts = xmltodict.parse(response.content)\n",
    "\n",
    "print(f\"{len(accounts['accounts']['account'])} accounts found\")"
   ]
  },
  {
   "cell_type": "code",
   "execution_count": 4,
   "id": "b33395a0-4b5b-43f0-a400-d0bb2e25255a",
   "metadata": {
    "collapsed": true,
    "jupyter": {
     "outputs_hidden": true,
     "source_hidden": true
    },
    "scrolled": true
   },
   "outputs": [
    {
     "name": "stdout",
     "output_type": "stream",
     "text": [
      "{'id': '7', 'created_at': '2024-08-14T09:07:14-04:00', 'updated_at': '2024-08-14T09:07:14-04:00', 'state': 'approved', 'org_name': 'gmoutier@redhat.com', 'extra_fields': None, 'monthly_billing_enabled': 'true', 'monthly_charging_enabled': 'true', 'credit_card_stored': 'false', 'plans': {'plan': [{'@default': 'true', 'id': '6', 'name': 'Default', 'type': 'account_plan', 'state': 'hidden', 'approval_required': 'false', 'setup_fee': '0.0', 'cost_per_month': '0.0', 'trial_period_days': None, 'cancellation_period': '0'}, {'@default': 'true', 'id': '9', 'name': 'Default', 'type': 'service_plan', 'state': 'published', 'approval_required': 'false', 'setup_fee': '0.0', 'cost_per_month': '0.0', 'trial_period_days': None, 'cancellation_period': '0', 'service_id': '3'}, {'@default': 'true', 'id': '10', 'name': 'Default', 'type': 'service_plan', 'state': 'published', 'approval_required': 'false', 'setup_fee': '0.0', 'cost_per_month': '0.0', 'trial_period_days': None, 'cancellation_period': '0', 'service_id': '4'}, {'@default': 'true', 'id': '11', 'name': 'Default', 'type': 'service_plan', 'state': 'published', 'approval_required': 'false', 'setup_fee': '0.0', 'cost_per_month': '0.0', 'trial_period_days': None, 'cancellation_period': '0', 'service_id': '5'}, {'@default': 'true', 'id': '15', 'name': 'Default', 'type': 'service_plan', 'state': 'published', 'approval_required': 'false', 'setup_fee': '0.0', 'cost_per_month': '0.0', 'trial_period_days': None, 'cancellation_period': '0', 'service_id': '6'}, {'@default': 'true', 'id': '17', 'name': 'Default', 'type': 'service_plan', 'state': 'published', 'approval_required': 'false', 'setup_fee': '0.0', 'cost_per_month': '0.0', 'trial_period_days': None, 'cancellation_period': '0', 'service_id': '7'}, {'@default': 'true', 'id': '19', 'name': 'Default', 'type': 'service_plan', 'state': 'published', 'approval_required': 'false', 'setup_fee': '0.0', 'cost_per_month': '0.0', 'trial_period_days': None, 'cancellation_period': '0', 'service_id': '8'}, {'@custom': 'false', '@default': 'false', 'id': '12', 'name': 'Standard Plan', 'type': 'application_plan', 'state': 'published', 'approval_required': 'false', 'setup_fee': '0.0', 'cost_per_month': '0.0', 'trial_period_days': None, 'cancellation_period': '0', 'service_id': '5'}, {'@custom': 'false', '@default': 'false', 'id': '14', 'name': 'Standard Plan', 'type': 'application_plan', 'state': 'published', 'approval_required': 'false', 'setup_fee': '0.0', 'cost_per_month': '0.0', 'trial_period_days': None, 'cancellation_period': '0', 'service_id': '3'}, {'@custom': 'false', '@default': 'false', 'id': '16', 'name': 'Standard Plan', 'type': 'application_plan', 'state': 'published', 'approval_required': 'false', 'setup_fee': '0.0', 'cost_per_month': '0.0', 'trial_period_days': None, 'cancellation_period': '0', 'service_id': '6'}]}, 'users': {'user': {'id': '8', 'created_at': '2024-08-14T09:07:14-04:00', 'updated_at': '2024-08-14T09:07:14-04:00', 'account_id': '7', 'state': 'active', 'role': 'admin', 'username': 'gmoutier@redhat.com', 'email': 'gmoutier@redhat.com', 'extra_fields': None}}}\n"
     ]
    }
   ],
   "source": [
    "# Display a specific account\n",
    "print(accounts[\"accounts\"][\"account\"][1])"
   ]
  },
  {
   "cell_type": "code",
   "execution_count": 5,
   "id": "7aea4f97-2550-4531-8a0b-79334b02a77a",
   "metadata": {},
   "outputs": [],
   "source": [
    "# Set the account to use in the next requests\n",
    "account_id = 7 # org gmoutier@redhat.com"
   ]
  },
  {
   "cell_type": "markdown",
   "id": "9b7601e8-d84b-4cfd-b8f9-d18dcd3bc014",
   "metadata": {},
   "source": [
    "### Get the Services"
   ]
  },
  {
   "cell_type": "code",
   "execution_count": 3,
   "id": "0b859bfe-7017-4c8d-a10e-da90c90c85d3",
   "metadata": {
    "jupyter": {
     "source_hidden": true
    }
   },
   "outputs": [
    {
     "name": "stdout",
     "output_type": "stream",
     "text": [
      "15 services found\n"
     ]
    }
   ],
   "source": [
    "params = {\n",
    "    \"access_token\": access_token\n",
    "}\n",
    "headers = {\n",
    "    \"accept\": \"*/*\"\n",
    "}\n",
    "\n",
    "api_url = f\"{backend_address}/admin/api/services.xml\"\n",
    "\n",
    "response = requests.get(api_url, params=params, headers=headers)\n",
    "\n",
    "services = xmltodict.parse(response.content)\n",
    "\n",
    "print(f\"{len(services['services']['service'])} services found\")"
   ]
  },
  {
   "cell_type": "code",
   "execution_count": 4,
   "id": "627092ce-02d1-4f32-b7e0-e9602cea5d6d",
   "metadata": {
    "collapsed": true,
    "jupyter": {
     "outputs_hidden": true,
     "source_hidden": true
    }
   },
   "outputs": [
    {
     "name": "stdout",
     "output_type": "stream",
     "text": [
      "Service id: 3\n",
      "Service name: Granite-8B-Code-Instruct\n",
      "---\n",
      "Service id: 4\n",
      "Service name: Mistral-7B-Instruct-v0.3\n",
      "---\n",
      "Service id: 5\n",
      "Service name: Nomic-embed-text-v1.5\n",
      "---\n",
      "Service id: 6\n",
      "Service name: Granite-3.1-8B-Instruct\n",
      "---\n",
      "Service id: 7\n",
      "Service name: Docling\n",
      "---\n",
      "Service id: 8\n",
      "Service name: Granite-8B-Lab-v1\n",
      "---\n",
      "Service id: 9\n",
      "Service name: Granite-Embedding-278m-multilingual\n",
      "---\n",
      "Service id: 10\n",
      "Service name: DeepSeek-R1-Distill-Qwen-14B\n",
      "---\n",
      "Service id: 11\n",
      "Service name: StableDiffusion-XL\n",
      "---\n",
      "Service id: 12\n",
      "Service name: DeepSeek-R1-Distill-Qwen-14B-W4A16\n",
      "---\n",
      "Service id: 13\n",
      "Service name: Granite-3.1-8B-Instruct-W4A16\n",
      "---\n",
      "Service id: 14\n",
      "Service name: Llama-3.1-8B-Instruct\n",
      "---\n",
      "Service id: 15\n",
      "Service name: Granite Guardian 3.1 2B\n",
      "---\n",
      "Service id: 16\n",
      "Service name: Stable Diffusion Safety Checker\n",
      "---\n",
      "Service id: 17\n",
      "Service name: Mixtral-8x7B-Instruct-v0.1\n",
      "---\n"
     ]
    }
   ],
   "source": [
    "# Display available Services    \n",
    "for service in services[\"services\"][\"service\"]:\n",
    "    print(f\"Service id: {service['id']}\")\n",
    "    print(f\"Service name: {service['name']}\")\n",
    "    print(\"---\")"
   ]
  },
  {
   "cell_type": "code",
   "execution_count": 5,
   "id": "0e66c3e3-7d6c-4266-9e62-21a35e348682",
   "metadata": {},
   "outputs": [],
   "source": [
    "# Set the Service to use in the next requests\n",
    "service_id = 8 # Granite-8B-Lab-v1"
   ]
  },
  {
   "cell_type": "markdown",
   "id": "a1c0e282-7275-4996-8de5-e60e7313e2f8",
   "metadata": {},
   "source": [
    "### Get the Service Plans\n",
    "\n",
    "We need the Service Plan id to use when creating a dummy application."
   ]
  },
  {
   "cell_type": "code",
   "execution_count": 6,
   "id": "222a0718-10a1-4be7-bf55-cfcf27848168",
   "metadata": {},
   "outputs": [
    {
     "name": "stdout",
     "output_type": "stream",
     "text": [
      "15 application plans found\n"
     ]
    }
   ],
   "source": [
    "params = {\n",
    "    \"access_token\": access_token\n",
    "}\n",
    "headers = {\n",
    "    \"accept\": \"*/*\"\n",
    "}\n",
    "\n",
    "api_url = f\"{backend_address}/admin/api/application_plans.xml\"\n",
    "\n",
    "response = requests.get(api_url, params=params, headers=headers)\n",
    "\n",
    "plans = xmltodict.parse(response.content)\n",
    "\n",
    "print(f\"{len(plans['plans']['plan'])} application plans found\")"
   ]
  },
  {
   "cell_type": "code",
   "execution_count": 7,
   "id": "7c526439-6322-4a5c-86ff-5c3ac3c3ecbb",
   "metadata": {
    "collapsed": true,
    "jupyter": {
     "outputs_hidden": true,
     "source_hidden": true
    }
   },
   "outputs": [
    {
     "name": "stdout",
     "output_type": "stream",
     "text": [
      "Plan id: 22\n",
      "Plan name: Standard Plan\n",
      "Service id: 9\n",
      "---\n",
      "Plan id: 38\n",
      "Plan name: Standard\n",
      "Service id: 17\n",
      "---\n",
      "Plan id: 36\n",
      "Plan name: Standard\n",
      "Service id: 16\n",
      "---\n",
      "Plan id: 34\n",
      "Plan name: Standard\n",
      "Service id: 15\n",
      "---\n",
      "Plan id: 32\n",
      "Plan name: Standard\n",
      "Service id: 14\n",
      "---\n",
      "Plan id: 30\n",
      "Plan name: Standard\n",
      "Service id: 13\n",
      "---\n",
      "Plan id: 28\n",
      "Plan name: Standard\n",
      "Service id: 12\n",
      "---\n",
      "Plan id: 26\n",
      "Plan name: Standard Plan\n",
      "Service id: 11\n",
      "---\n",
      "Plan id: 24\n",
      "Plan name: Standard Plan\n",
      "Service id: 10\n",
      "---\n",
      "Plan id: 20\n",
      "Plan name: Standard Plan\n",
      "Service id: 8\n",
      "---\n",
      "Plan id: 18\n",
      "Plan name: Standard Plan\n",
      "Service id: 7\n",
      "---\n",
      "Plan id: 16\n",
      "Plan name: Standard Plan\n",
      "Service id: 6\n",
      "---\n",
      "Plan id: 14\n",
      "Plan name: Standard Plan\n",
      "Service id: 3\n",
      "---\n",
      "Plan id: 13\n",
      "Plan name: Standard Plan\n",
      "Service id: 4\n",
      "---\n",
      "Plan id: 12\n",
      "Plan name: Standard Plan\n",
      "Service id: 5\n",
      "---\n"
     ]
    }
   ],
   "source": [
    "# Display available Plans\n",
    "for plan in plans[\"plans\"][\"plan\"]:\n",
    "    print(f\"Plan id: {plan['id']}\")\n",
    "    print(f\"Plan name: {plan['name']}\")\n",
    "    print(f\"Service id: {plan['service_id']}\")\n",
    "    print(\"---\")"
   ]
  },
  {
   "cell_type": "code",
   "execution_count": 11,
   "id": "12f01cdf-4acd-4eb6-a0ff-dd29368dc1fe",
   "metadata": {},
   "outputs": [],
   "source": [
    "# Set the Plan to use in the next requests\n",
    "plan_id = 20"
   ]
  },
  {
   "cell_type": "markdown",
   "id": "f6716da6-3899-4d11-a57a-86d2651a350a",
   "metadata": {},
   "source": [
    "### Create a dummy Application in the selected Account, using the selected Plan"
   ]
  },
  {
   "cell_type": "code",
   "execution_count": 19,
   "id": "08904b29-6032-4b47-8ca3-c2c9826c8e00",
   "metadata": {},
   "outputs": [
    {
     "name": "stdout",
     "output_type": "stream",
     "text": [
      "New application created, id: 2565\n"
     ]
    }
   ],
   "source": [
    "payload = {\n",
    "    \"access_token\": access_token,\n",
    "    \"plan_id\": \"20\",\n",
    "    \"name\": \"dummy2\",\n",
    "}\n",
    "headers = {\n",
    "    \"accept\": \"*/*\",\n",
    "    \"Content-Type\": \"application/x-www-form-urlencoded\",\n",
    "}\n",
    "\n",
    "api_url = f\"{backend_address}/admin/api/accounts/{account_id}/applications.xml\"\n",
    "\n",
    "response = requests.post(api_url, data=payload, headers=headers)\n",
    "\n",
    "application = xmltodict.parse(response.content)\n",
    "\n",
    "# Retrieve the application id (to delete it afterwards)\n",
    "application_id = application[\"application\"][\"id\"]\n",
    "print(f\"New application created, id: {application_id}\")"
   ]
  },
  {
   "cell_type": "markdown",
   "id": "afb41c65-3ff0-4ce2-be23-42b289fb7ee8",
   "metadata": {},
   "source": [
    "### Delete dummy app"
   ]
  },
  {
   "cell_type": "code",
   "execution_count": 20,
   "id": "663d484b-df1d-4216-8c2e-3ae0dabf6fe1",
   "metadata": {},
   "outputs": [
    {
     "name": "stdout",
     "output_type": "stream",
     "text": [
      "Application 2565 deleted\n"
     ]
    }
   ],
   "source": [
    "params = {\n",
    "    \"access_token\": access_token,\n",
    "}\n",
    "headers = {\n",
    "    \"accept\": \"*/*\",\n",
    "}\n",
    "\n",
    "api_url = f\"{backend_address}/admin/api/accounts/{account_id}/applications/{application_id}.xml\"\n",
    "\n",
    "response = requests.delete(api_url, headers=headers, params=params)\n",
    "\n",
    "if response.status_code == 200:\n",
    "    print(f\"Application {application_id} deleted\")\n",
    "else:\n",
    "    print(f\"Error deleting application {application_id}\")\n",
    "    print(response.content)"
   ]
  }
 ],
 "metadata": {
  "kernelspec": {
   "display_name": ".venv",
   "language": "python",
   "name": "python3"
  },
  "language_info": {
   "codemirror_mode": {
    "name": "ipython",
    "version": 3
   },
   "file_extension": ".py",
   "mimetype": "text/x-python",
   "name": "python",
   "nbconvert_exporter": "python",
   "pygments_lexer": "ipython3",
   "version": "3.12.9"
  }
 },
 "nbformat": 4,
 "nbformat_minor": 5
}
